{
 "cells": [
  {
   "cell_type": "code",
   "execution_count": 1,
   "id": "aea4245b",
   "metadata": {},
   "outputs": [],
   "source": [
    "#gerekli kütüphaneleri alıyoruz\n",
    "import pandas as pd\n",
    "import numpy as np\n",
    "import matplotlib.pyplot as plt\n",
    "from sklearn.model_selection import train_test_split\n",
    "from sklearn.linear_model import LinearRegression\n",
    "from sklearn.preprocessing import StandardScaler\n",
    "from sklearn.metrics import r2_score, mean_squared_error, mean_absolute_error\n",
    "import statsmodels.api as sm\n"
   ]
  },
  {
   "cell_type": "code",
   "execution_count": 2,
   "id": "14c51453",
   "metadata": {},
   "outputs": [],
   "source": [
    "#veri setini CSV uzantılı dosyadan aldık\n",
    "data = pd.read_csv(\"dataset_Facebook.csv\", delimiter=';')\n"
   ]
  },
  {
   "cell_type": "code",
   "execution_count": 3,
   "id": "a5ee074e",
   "metadata": {},
   "outputs": [
    {
     "name": "stdout",
     "output_type": "stream",
     "text": [
      "['Page total likes', 'Type', 'Category', 'Post Month', 'Post Weekday', 'Post Hour', 'Paid', 'Lifetime Post Total Reach', 'Lifetime Post Total Impressions', 'Lifetime Engaged Users', 'Lifetime Post Consumers', 'Lifetime Post Consumptions', 'Lifetime Post Impressions by people who have liked your Page', 'Lifetime Post reach by people who like your Page', 'Lifetime People who have liked your Page and engaged with your post', 'comment', 'like', 'share', 'Total Interactions']\n"
     ]
    }
   ],
   "source": [
    "# DataFrame'deki tüm sütun isimlerini al\n",
    "tum_sutunlar = data.columns.tolist()\n",
    "\n",
    "# Tüm sütun isimlerini ekrana yazdır\n",
    "print(tum_sutunlar)"
   ]
  },
  {
   "cell_type": "code",
   "execution_count": 4,
   "id": "cdea354c",
   "metadata": {},
   "outputs": [],
   "source": [
    "# Kullanılmayan sütunları belirle (örneğin, kullanılmayan_sutun_1, kullanılmayan_sutun_2)\n",
    "kullanilmayan_sutunlar =['Lifetime Post Total Reach', 'Lifetime Post Total Impressions', 'Lifetime Engaged Users', 'Lifetime Post Consumers', 'Lifetime Post Consumptions', 'Lifetime Post Impressions by people who have liked your Page', 'Lifetime Post reach by people who like your Page', 'Lifetime People who have liked your Page and engaged with your post', 'comment', 'like', 'share'] \n",
    "\n",
    "\n",
    "# Kullanılmayan sütunları veri setinden sil\n",
    "data = data.drop(kullanilmayan_sutunlar, axis=1)\n",
    "# Değişiklikleri kaydet\n",
    "#data.to_csv('dataset_Facebook.csv', index=False)  # index=False ile indeksi kaydetmez\n"
   ]
  },
  {
   "cell_type": "code",
   "execution_count": 5,
   "id": "e013c8ac",
   "metadata": {},
   "outputs": [
    {
     "name": "stdout",
     "output_type": "stream",
     "text": [
      "Page total likes      0\n",
      "Type                  0\n",
      "Category              0\n",
      "Post Month            0\n",
      "Post Weekday          0\n",
      "Post Hour             0\n",
      "Paid                  1\n",
      "Total Interactions    0\n",
      "dtype: int64\n"
     ]
    }
   ],
   "source": [
    "#verileri kontrol edilip boşlukları ortalama değer ile doldurma kısmı \n",
    "print(data.isnull().sum())\n",
    "numeric_columns = data.select_dtypes(include='number').columns.tolist()\n",
    "data[numeric_columns] = data[numeric_columns].fillna(data[numeric_columns].mean())"
   ]
  },
  {
   "cell_type": "code",
   "execution_count": 6,
   "id": "cac393fa",
   "metadata": {},
   "outputs": [
    {
     "name": "stdout",
     "output_type": "stream",
     "text": [
      "1    426\n",
      "2     45\n",
      "3     22\n",
      "4      7\n",
      "Name: Type, dtype: int64\n"
     ]
    }
   ],
   "source": [
    "# 'Type' sütununu dönüştürelim\n",
    "type_mapping = {'Photo': 1, 'Status': 2, 'Link': 3, 'Video': 4}\n",
    "data['Type'] = data['Type'].map(type_mapping).fillna(data['Type'])\n",
    "\n",
    "# 'Type_Encoded' sütununu kontrol edelim\n",
    "print(data['Type'].value_counts())"
   ]
  },
  {
   "cell_type": "code",
   "execution_count": 7,
   "id": "649e1b1e",
   "metadata": {},
   "outputs": [
    {
     "name": "stdout",
     "output_type": "stream",
     "text": [
      "   Page total likes  Type  Category  Post Month  Post Weekday  Post Hour  \\\n",
      "0            139441     1         2          12             4          3   \n",
      "1            139441     2         2          12             3         10   \n",
      "2            139441     1         3          12             3          3   \n",
      "3            139441     1         2          12             2         10   \n",
      "4            139441     1         2          12             2          3   \n",
      "\n",
      "   Paid  Total Interactions  Combined_Column  Combined_Column_with_Type  \n",
      "0   0.0                 100         418323.0                   418323.0  \n",
      "1   0.0                 164        1394410.0                  2788820.0  \n",
      "2   0.0                  80         418323.0                   418323.0  \n",
      "3   1.0                1777        1394410.0                  1394410.0  \n",
      "4   0.0                 393         418323.0                   418323.0  \n"
     ]
    }
   ],
   "source": [
    "data['Combined_Column'] = round(data['Page total likes'] * data['Post Hour'] - (data['Post Weekday'] / data['Post Month']))\n",
    "\n",
    "# Yeni özelliği oluşturma\n",
    "data['Combined_Column_with_Type'] = round(data['Page total likes'] * data['Post Hour'] - (data['Post Weekday'] / data['Post Month'])) * data['Type']\n",
    "\n",
    "\n",
    "# Sonuçları gözden geçirelim\n",
    "print(data.head())"
   ]
  },
  {
   "cell_type": "code",
   "execution_count": 8,
   "id": "d4304295",
   "metadata": {},
   "outputs": [
    {
     "name": "stdout",
     "output_type": "stream",
     "text": [
      "   Page total likes  Type  Category  Post Month  Post Weekday  Post Hour  \\\n",
      "0            139441     1         2          12             4          3   \n",
      "1            139441     2         2          12             3         10   \n",
      "2            139441     1         3          12             3          3   \n",
      "3            139441     1         2          12             2         10   \n",
      "4            139441     1         2          12             2          3   \n",
      "\n",
      "   Paid  Total Interactions  Combined_Column  Combined_Column_with_Type  \n",
      "0   0.0                 100         418323.0                   418323.0  \n",
      "1   0.0                 164        1394410.0                  2788820.0  \n",
      "2   0.0                  80         418323.0                   418323.0  \n",
      "3   1.0                1777        1394410.0                  1394410.0  \n",
      "4   0.0                 393         418323.0                   418323.0  \n"
     ]
    }
   ],
   "source": [
    "#bağımsız değişkenleri (X) ve bağımlı değişkeni (y) belirledik\n",
    "X = data[['Category', 'Page total likes', 'Post Month', 'Post Hour', 'Post Weekday', 'Paid', 'Combined_Column',]]\n",
    "y = data['Total Interactions']\n",
    "\n",
    "\n",
    "# Yeni veri setini gözden geçir\n",
    "print(data.head())"
   ]
  },
  {
   "cell_type": "code",
   "execution_count": 9,
   "id": "011f134d",
   "metadata": {},
   "outputs": [
    {
     "name": "stdout",
     "output_type": "stream",
     "text": [
      "   Page total likes  Type  Category  Post Month  Post Weekday  Post Hour  \\\n",
      "0            139441     1         2          12             4          3   \n",
      "1            139441     2         2          12             3         10   \n",
      "2            139441     1         3          12             3          3   \n",
      "3            139441     1         2          12             2         10   \n",
      "4            139441     1         2          12             2          3   \n",
      "\n",
      "   Paid  Total Interactions  Combined_Column  Combined_Column_with_Type  \n",
      "0   0.0                 100         418323.0                   418323.0  \n",
      "1   0.0                 164        1394410.0                  2788820.0  \n",
      "2   0.0                  80         418323.0                   418323.0  \n",
      "3   1.0                1777        1394410.0                  1394410.0  \n",
      "4   0.0                 393         418323.0                   418323.0  \n"
     ]
    }
   ],
   "source": [
    "# Yeni veri setini gözden geçir\n",
    "print(data.head())"
   ]
  },
  {
   "cell_type": "code",
   "execution_count": 10,
   "id": "545f2170",
   "metadata": {},
   "outputs": [],
   "source": [
    "#verileri ölçeklendirdik\n",
    "scaler = StandardScaler()\n",
    "X_scaled = scaler.fit_transform(X)\n"
   ]
  },
  {
   "cell_type": "code",
   "execution_count": 11,
   "id": "2f693232",
   "metadata": {},
   "outputs": [],
   "source": [
    "#veri setini %80 eğitim ve %20 test verisi olacak şekilde böldük/ayırdık \n",
    "X_train, X_test, y_train, y_test = train_test_split(X_scaled, y, test_size=0.2, random_state=39)\n"
   ]
  },
  {
   "cell_type": "code",
   "execution_count": 15,
   "id": "1f100d89",
   "metadata": {},
   "outputs": [],
   "source": [
    "#doğrusal regresyon modelini oluşturduk\n",
    "model = LinearRegression()\n",
    "model.fit(X, y)\n",
    "\n",
    "model = LinearRegression().fit(X, y)\n",
    "\n"
   ]
  },
  {
   "cell_type": "code",
   "execution_count": 16,
   "id": "c98ac268",
   "metadata": {},
   "outputs": [
    {
     "name": "stdout",
     "output_type": "stream",
     "text": [
      "                                 OLS Regression Results                                \n",
      "=======================================================================================\n",
      "Dep. Variable:     Total Interactions   R-squared (uncentered):                   0.267\n",
      "Model:                            OLS   Adj. R-squared (uncentered):              0.256\n",
      "Method:                 Least Squares   F-statistic:                              25.64\n",
      "Date:                Thu, 14 Dec 2023   Prob (F-statistic):                    6.39e-30\n",
      "Time:                        15:35:55   Log-Likelihood:                         -3669.6\n",
      "No. Observations:                 500   AIC:                                      7353.\n",
      "Df Residuals:                     493   BIC:                                      7383.\n",
      "Df Model:                           7                                                  \n",
      "Covariance Type:            nonrobust                                                  \n",
      "====================================================================================\n",
      "                       coef    std err          t      P>|t|      [0.025      0.975]\n",
      "------------------------------------------------------------------------------------\n",
      "Category            54.0518     20.108      2.688      0.007      14.544      93.560\n",
      "Page total likes     0.0011      0.001      1.161      0.246      -0.001       0.003\n",
      "Post Month           3.0233     11.165      0.271      0.787     -18.914      24.961\n",
      "Post Hour           15.9043     21.841      0.728      0.467     -27.009      58.818\n",
      "Post Weekday       -15.5000      8.240     -1.881      0.061     -31.690       0.690\n",
      "Paid                91.6594     37.702      2.431      0.015      17.583     165.735\n",
      "Combined_Column     -0.0001      0.000     -0.754      0.451      -0.000       0.000\n",
      "==============================================================================\n",
      "Omnibus:                      831.751   Durbin-Watson:                   2.031\n",
      "Prob(Omnibus):                  0.000   Jarque-Bera (JB):           411023.878\n",
      "Skew:                           9.704   Prob(JB):                         0.00\n",
      "Kurtosis:                     142.113   Cond. No.                     2.47e+06\n",
      "==============================================================================\n",
      "\n",
      "Notes:\n",
      "[1] R² is computed without centering (uncentered) since the model does not contain a constant.\n",
      "[2] Standard Errors assume that the covariance matrix of the errors is correctly specified.\n",
      "[3] The condition number is large, 2.47e+06. This might indicate that there are\n",
      "strong multicollinearity or other numerical problems.\n"
     ]
    }
   ],
   "source": [
    "#doğrusal regresyon modelini oluşturduk\n",
    "model = sm.OLS(y,X)\n",
    "result = model.fit()\n",
    "print(result.summary())"
   ]
  },
  {
   "cell_type": "code",
   "execution_count": 17,
   "id": "1eb2646d",
   "metadata": {},
   "outputs": [
    {
     "data": {
      "text/plain": [
       "LinearRegression()"
      ]
     },
     "execution_count": 17,
     "metadata": {},
     "output_type": "execute_result"
    }
   ],
   "source": [
    "#doğrusal regresyon modelini oluşturduk\n",
    "model = LinearRegression()\n",
    "model.fit(X_train, y_train)"
   ]
  },
  {
   "cell_type": "code",
   "execution_count": 18,
   "id": "49d76d9e",
   "metadata": {},
   "outputs": [],
   "source": [
    "#eğitim ve test setleri üzerinde tahminler yapıldığı kısım\n",
    "y_train_pred = model.predict(X_train)\n",
    "y_test_pred = model.predict(X_test)\n"
   ]
  },
  {
   "cell_type": "code",
   "execution_count": 19,
   "id": "771214cf",
   "metadata": {},
   "outputs": [],
   "source": [
    "\n",
    "#modelin ağırlık katsayılarını aldık\n",
    "weights = model.coef_\n"
   ]
  },
  {
   "cell_type": "code",
   "execution_count": 20,
   "id": "99dc2d3a",
   "metadata": {},
   "outputs": [],
   "source": [
    "#performans ölçümlerini hesapladık\n",
    "train_error = mean_squared_error(y_train, y_train_pred)\n",
    "test_error = mean_squared_error(y_test, y_test_pred)\n"
   ]
  },
  {
   "cell_type": "code",
   "execution_count": 21,
   "id": "5cb7106d",
   "metadata": {},
   "outputs": [],
   "source": [
    "#eğitim seti için R-kare değerini hesapladık\n",
    "r2_train = r2_score(y_train, y_train_pred)\n",
    "#test seti için R-kare değerini hesapladık\n",
    "r2_test = r2_score(y_test, y_test_pred)\n",
    "#eğitim seti için Ortalama Mutlak Hata değerini hesapladık\n",
    "mae_train = mean_absolute_error(y_train, y_train_pred)\n",
    "#test seti için Ortalama Mutlak Hata değerini hesapladık\n",
    "mae_test = mean_absolute_error(y_test, y_test_pred)\n",
    "\n"
   ]
  },
  {
   "cell_type": "code",
   "execution_count": 22,
   "id": "87e6499c",
   "metadata": {},
   "outputs": [
    {
     "name": "stdout",
     "output_type": "stream",
     "text": [
      "Eğitim Seti R-kare Değeri: 0.04025548236046672\n",
      "Test Seti R-kare Değeri: 0.022334855819556965\n",
      "Eğitim Seti MSE Değeri: 141562.2663911306\n",
      "Test Seti MSE Değeri: 126116.26274533397\n",
      "Eğitim Seti MAE Değeri: 152.55195951631106\n",
      "Test Seti MAE Değeri: 189.8391811126613\n",
      "Ağırlık Vektörü: [  36.9301382   137.24348122  -55.60310519  239.44700083  -23.83007583\n",
      "   35.72628372 -262.83641582]\n"
     ]
    }
   ],
   "source": [
    "#sonuçları ekrana yazdırıyoruz\n",
    "print(\"Eğitim Seti R-kare Değeri:\", r2_train)\n",
    "print(\"Test Seti R-kare Değeri:\", r2_test)\n",
    "print(\"Eğitim Seti MSE Değeri:\", train_error)\n",
    "print(\"Test Seti MSE Değeri:\", test_error)\n",
    "print(\"Eğitim Seti MAE Değeri:\", mae_train)\n",
    "print(\"Test Seti MAE Değeri:\", mae_test)\n",
    "print(\"Ağırlık Vektörü:\", weights)"
   ]
  },
  {
   "cell_type": "code",
   "execution_count": 23,
   "id": "02dd2682",
   "metadata": {},
   "outputs": [
    {
     "data": {
      "text/plain": [
       "Text(0.5, 1.0, 'Eğitim Seti')"
      ]
     },
     "execution_count": 23,
     "metadata": {},
     "output_type": "execute_result"
    },
    {
     "data": {
      "image/png": "[encoded data removed]",
      "text/plain": [
       "<Figure size 720x432 with 1 Axes>"
      ]
     },
     "metadata": {
      "needs_background": "light"
     },
     "output_type": "display_data"
    }
   ],
   "source": [
    "#eğitim ve test setlerinde gerçek ve tahmin edilen değerleri görselleştirdik\n",
    "plt.figure(figsize=(10, 6))\n",
    "plt.subplot(1, 2, 1)\n",
    "plt.scatter(y_train, y_train_pred)\n",
    "plt.xlabel(\"Gerçek Değerler\")\n",
    "plt.ylabel(\"Tahmin Edilen Değerler\")\n",
    "plt.title(\"Eğitim Seti\")\n"
   ]
  },
  {
   "cell_type": "code",
   "execution_count": 24,
   "id": "8a6cd86b",
   "metadata": {},
   "outputs": [
    {
     "data": {
      "text/plain": [
       "Text(0.5, 1.0, 'Test Seti')"
      ]
     },
     "execution_count": 24,
     "metadata": {},
     "output_type": "execute_result"
    },
    {
     "data": {
      "image/png": "[encoded data removed]",
      "text/plain": [
       "<Figure size 432x288 with 1 Axes>"
      ]
     },
     "metadata": {
      "needs_background": "light"
     },
     "output_type": "display_data"
    }
   ],
   "source": [
    "plt.subplot(1, 2, 2)\n",
    "plt.scatter(y_test, y_test_pred)\n",
    "plt.xlabel(\"Gerçek Değerler\")\n",
    "plt.ylabel(\"Tahmin Edilen Değerler\")\n",
    "plt.title(\"Test Seti\")\n"
   ]
  },
  {
   "cell_type": "code",
   "execution_count": 25,
   "id": "ffe30f82",
   "metadata": {},
   "outputs": [
    {
     "data": {
      "image/png": "[encoded data removed]",
      "text/plain": [
       "<Figure size 432x432 with 1 Axes>"
      ]
     },
     "metadata": {
      "needs_background": "light"
     },
     "output_type": "display_data"
    }
   ],
   "source": [
    "#r-kareyi görselleştirme işlemi\n",
    "plt.figure(figsize=(6, 6))\n",
    "plt.scatter(y_test, y_test_pred)\n",
    "plt.plot([min(y_test), max(y_test)], [min(y_test), max(y_test)], linestyle='--', color='red')  # 45 derecelik bir doğru\n",
    "plt.xlabel(\"Gerçek Değerler\")\n",
    "plt.ylabel(\"Tahmin Edilen Değerler\")\n",
    "plt.title(\"R-kare Görselleştirmesi\")\n",
    "plt.show()\n"
   ]
  },
  {
   "cell_type": "code",
   "execution_count": 34,
   "id": "d9010748",
   "metadata": {},
   "outputs": [
    {
     "name": "stdout",
     "output_type": "stream",
     "text": [
      "Ağırlık Matrisi: [ 29.61673422  21.89886637   0.27853811  -9.07327963 -21.70874543\n",
      "  29.74788445 -16.12617546]\n",
      "Eğitim Seti Toplam Kare Hatayı (SSE): 184178.01854153062\n",
      "Test Seti Toplam Kare Hatayı (SSE): 188146.77081449793\n"
     ]
    },
    {
     "data": {
      "image/png": "[encoded data removed]",
      "text/plain": [
       "<Figure size 720x432 with 1 Axes>"
      ]
     },
     "metadata": {
      "needs_background": "light"
     },
     "output_type": "display_data"
    }
   ],
   "source": [
    "#gradyan inişi fonksiyonu tanımladık\n",
    "def gradient_descent(X, y, learning_rate=0.01, epochs=500):\n",
    "    #bağımsız değişkenlerin özellik sayısını al\n",
    "    num_features = X.shape[1]\n",
    "    \n",
    "    #agırlıkları sıfırlar ile başlat\n",
    "    weights = np.zeros(num_features)\n",
    "    \n",
    "    #veri kümesindeki gözlem sayısını al\n",
    "    n = len(y)\n",
    "    \n",
    "    #eğitim ve test seti hatalarını saklamak için boş listeler oluştur\n",
    "    SSE_train = []\n",
    "    SSE_test = []\n",
    "\n",
    "    #belirlenen epoch sayısı kadar iterasyon yap\n",
    "    for epoch in range(epochs):\n",
    "        # Modelin güncel ağırlıklarıyla tahmin yapılır\n",
    "        y_pred = np.dot(X, weights)\n",
    "        \n",
    "        #hata hesaplanıyor\n",
    "        error = y_pred - y\n",
    "        \n",
    "        #gradyanı iniş algoritmasını güncelliyoruz\n",
    "        gradient = (2/n) * np.dot(X.T, error) # --> Hatanın bağımsız değişkenlerinin transpoze matrisi ile çarpılmasıdır.ve her bir özelliğin hataya olan katkısını gösteren bir vektörü üretir.\n",
    "        \n",
    "        # Ağırlıkları güncelliyoruz\n",
    "        weights -= learning_rate * gradient\n",
    "        \n",
    "        #eğitim seti üzerindeki hatayı kaydediyoruz\n",
    "        SSE_train.append(np.sum(error**2) / n)\n",
    "        \n",
    "        #test seti üzerindeki hatayı kaydediyoruz\n",
    "        SSE_test.append(np.sum((np.dot(X_test, weights) - y_test)**2) / len(y_test))\n",
    "        \n",
    "    #son ağırlıkları, eğitim seti hataları ve test seti hatalarını döndürüyoruz\n",
    "    return weights, SSE_train, SSE_test\n",
    "\n",
    "#gradyan inişini için tanımladığımız fonksiyonu çağırıyoruz\n",
    "weights, train_error, test_error = gradient_descent(X_train, y_train, learning_rate=0.001, epochs=1600)\n",
    "\n",
    "#gradyan inişi sonuçlarını ekrana yazdırıyoruz\n",
    "print(\"Ağırlık Matrisi:\", weights)\n",
    "print(\"Eğitim Seti Toplam Kare Hatayı (SSE):\", train_error[-1])\n",
    "print(\"Test Seti Toplam Kare Hatayı (SSE):\", test_error[-1])\n",
    "\n",
    "#gradyan inişinin eğitim ve test hatalarını görselleştiriyoruz\n",
    "plt.figure(figsize=(10, 6))\n",
    "plt.plot(range(len(train_error)), train_error, label='Eğitim Seti')\n",
    "plt.plot(range(len(test_error)), test_error, label='Test Seti')\n",
    "plt.xlabel('Epochs')\n",
    "plt.ylabel('Toplam Kare Hata (SSE)')\n",
    "plt.title('Gradyan İnişi: Eğitim ve Test Hataları')\n",
    "plt.legend()\n",
    "plt.show()"
   ]
  }
 ],
 "metadata": {
  "kernelspec": {
   "display_name": "Python 3 (ipykernel)",
   "language": "python",
   "name": "python3"
  },
  "language_info": {
   "codemirror_mode": {
    "name": "ipython",
    "version": 3
   },
   "file_extension": ".py",
   "mimetype": "text/x-python",
   "name": "python",
   "nbconvert_exporter": "python",
   "pygments_lexer": "ipython3",
   "version": "3.9.12"
  }
 },
 "nbformat": 4,
 "nbformat_minor": 5
}
